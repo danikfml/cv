{
  "nbformat": 4,
  "nbformat_minor": 0,
  "metadata": {
    "colab": {
      "provenance": [],
      "gpuType": "T4"
    },
    "kernelspec": {
      "name": "python3",
      "display_name": "Python 3"
    },
    "language_info": {
      "name": "python"
    },
    "accelerator": "GPU"
  },
  "cells": [
    {
      "cell_type": "code",
      "execution_count": 2,
      "metadata": {
        "colab": {
          "base_uri": "https://localhost:8080/",
          "height": 1000
        },
        "id": "aXvmaOhFy5Du",
        "outputId": "903cc565-b6c9-46b2-def1-3ab3f483771f"
      },
      "outputs": [
        {
          "output_type": "stream",
          "name": "stderr",
          "text": [
            "Some weights of SegformerForSemanticSegmentation were not initialized from the model checkpoint at nvidia/mit-b0 and are newly initialized: ['decode_head.batch_norm.bias', 'decode_head.batch_norm.num_batches_tracked', 'decode_head.batch_norm.running_mean', 'decode_head.batch_norm.running_var', 'decode_head.batch_norm.weight', 'decode_head.classifier.bias', 'decode_head.classifier.weight', 'decode_head.linear_c.0.proj.bias', 'decode_head.linear_c.0.proj.weight', 'decode_head.linear_c.1.proj.bias', 'decode_head.linear_c.1.proj.weight', 'decode_head.linear_c.2.proj.bias', 'decode_head.linear_c.2.proj.weight', 'decode_head.linear_c.3.proj.bias', 'decode_head.linear_c.3.proj.weight', 'decode_head.linear_fuse.weight']\n",
            "You should probably TRAIN this model on a down-stream task to be able to use it for predictions and inference.\n"
          ]
        },
        {
          "output_type": "stream",
          "name": "stdout",
          "text": [
            "Training U-Net...\n"
          ]
        },
        {
          "output_type": "stream",
          "name": "stderr",
          "text": [
            "U-Net Epoch 1: 100%|██████████| 92/92 [00:10<00:00,  8.49it/s]\n"
          ]
        },
        {
          "output_type": "stream",
          "name": "stdout",
          "text": [
            "U-Net Epoch 1: Loss=2.5875, mIoU=0.1297, Time=12.4s\n"
          ]
        },
        {
          "output_type": "stream",
          "name": "stderr",
          "text": [
            "U-Net Epoch 2: 100%|██████████| 92/92 [00:09<00:00,  9.28it/s]\n"
          ]
        },
        {
          "output_type": "stream",
          "name": "stdout",
          "text": [
            "U-Net Epoch 2: Loss=1.6339, mIoU=0.2579, Time=11.4s\n"
          ]
        },
        {
          "output_type": "stream",
          "name": "stderr",
          "text": [
            "U-Net Epoch 3: 100%|██████████| 92/92 [00:09<00:00,  9.42it/s]\n"
          ]
        },
        {
          "output_type": "stream",
          "name": "stdout",
          "text": [
            "U-Net Epoch 3: Loss=1.1093, mIoU=0.2955, Time=11.2s\n"
          ]
        },
        {
          "output_type": "stream",
          "name": "stderr",
          "text": [
            "U-Net Epoch 4: 100%|██████████| 92/92 [00:09<00:00,  9.47it/s]\n"
          ]
        },
        {
          "output_type": "stream",
          "name": "stdout",
          "text": [
            "U-Net Epoch 4: Loss=0.8197, mIoU=0.3925, Time=11.1s\n"
          ]
        },
        {
          "output_type": "stream",
          "name": "stderr",
          "text": [
            "U-Net Epoch 5: 100%|██████████| 92/92 [00:09<00:00,  9.41it/s]\n"
          ]
        },
        {
          "output_type": "stream",
          "name": "stdout",
          "text": [
            "U-Net Epoch 5: Loss=0.6580, mIoU=0.3948, Time=11.2s\n"
          ]
        },
        {
          "output_type": "stream",
          "name": "stderr",
          "text": [
            "U-Net Epoch 6: 100%|██████████| 92/92 [00:09<00:00,  9.42it/s]\n"
          ]
        },
        {
          "output_type": "stream",
          "name": "stdout",
          "text": [
            "U-Net Epoch 6: Loss=0.5576, mIoU=0.4216, Time=11.2s\n"
          ]
        },
        {
          "output_type": "stream",
          "name": "stderr",
          "text": [
            "U-Net Epoch 7: 100%|██████████| 92/92 [00:10<00:00,  8.40it/s]\n"
          ]
        },
        {
          "output_type": "stream",
          "name": "stdout",
          "text": [
            "U-Net Epoch 7: Loss=0.5120, mIoU=0.4127, Time=12.4s\n"
          ]
        },
        {
          "output_type": "stream",
          "name": "stderr",
          "text": [
            "U-Net Epoch 8: 100%|██████████| 92/92 [00:09<00:00,  9.46it/s]\n"
          ]
        },
        {
          "output_type": "stream",
          "name": "stdout",
          "text": [
            "U-Net Epoch 8: Loss=0.4606, mIoU=0.4177, Time=11.3s\n"
          ]
        },
        {
          "output_type": "stream",
          "name": "stderr",
          "text": [
            "U-Net Epoch 9: 100%|██████████| 92/92 [00:09<00:00,  9.67it/s]\n"
          ]
        },
        {
          "output_type": "stream",
          "name": "stdout",
          "text": [
            "U-Net Epoch 9: Loss=0.4114, mIoU=0.4191, Time=11.4s\n"
          ]
        },
        {
          "output_type": "stream",
          "name": "stderr",
          "text": [
            "U-Net Epoch 10: 100%|██████████| 92/92 [00:09<00:00,  9.75it/s]\n"
          ]
        },
        {
          "output_type": "stream",
          "name": "stdout",
          "text": [
            "U-Net Epoch 10: Loss=0.3753, mIoU=0.4166, Time=11.3s\n"
          ]
        },
        {
          "output_type": "stream",
          "name": "stderr",
          "text": [
            "U-Net Epoch 11: 100%|██████████| 92/92 [00:09<00:00,  9.66it/s]\n"
          ]
        },
        {
          "output_type": "stream",
          "name": "stdout",
          "text": [
            "U-Net Epoch 11: Loss=0.3544, mIoU=0.4441, Time=11.1s\n"
          ]
        },
        {
          "output_type": "stream",
          "name": "stderr",
          "text": [
            "U-Net Epoch 12: 100%|██████████| 92/92 [00:09<00:00,  9.32it/s]\n"
          ]
        },
        {
          "output_type": "stream",
          "name": "stdout",
          "text": [
            "U-Net Epoch 12: Loss=0.3286, mIoU=0.4678, Time=11.4s\n"
          ]
        },
        {
          "output_type": "stream",
          "name": "stderr",
          "text": [
            "U-Net Epoch 13: 100%|██████████| 92/92 [00:09<00:00,  9.29it/s]\n"
          ]
        },
        {
          "output_type": "stream",
          "name": "stdout",
          "text": [
            "U-Net Epoch 13: Loss=0.3090, mIoU=0.4701, Time=11.3s\n"
          ]
        },
        {
          "output_type": "stream",
          "name": "stderr",
          "text": [
            "U-Net Epoch 14: 100%|██████████| 92/92 [00:09<00:00,  9.37it/s]\n"
          ]
        },
        {
          "output_type": "stream",
          "name": "stdout",
          "text": [
            "U-Net Epoch 14: Loss=0.2992, mIoU=0.4565, Time=11.3s\n"
          ]
        },
        {
          "output_type": "stream",
          "name": "stderr",
          "text": [
            "U-Net Epoch 15: 100%|██████████| 92/92 [00:09<00:00,  9.21it/s]\n"
          ]
        },
        {
          "output_type": "stream",
          "name": "stdout",
          "text": [
            "U-Net Epoch 15: Loss=0.2785, mIoU=0.4814, Time=11.5s\n",
            "\n",
            "Training SegFormer...\n"
          ]
        },
        {
          "output_type": "stream",
          "name": "stderr",
          "text": [
            "SegFormer Epoch 1: 100%|██████████| 92/92 [00:08<00:00, 10.87it/s]\n"
          ]
        },
        {
          "output_type": "stream",
          "name": "stdout",
          "text": [
            "SegFormer Epoch 1: Loss=1.7045, mIoU=0.3340, Time=9.9s\n"
          ]
        },
        {
          "output_type": "stream",
          "name": "stderr",
          "text": [
            "SegFormer Epoch 2: 100%|██████████| 92/92 [00:08<00:00, 11.01it/s]\n"
          ]
        },
        {
          "output_type": "stream",
          "name": "stdout",
          "text": [
            "SegFormer Epoch 2: Loss=0.8458, mIoU=0.3873, Time=9.8s\n"
          ]
        },
        {
          "output_type": "stream",
          "name": "stderr",
          "text": [
            "SegFormer Epoch 3: 100%|██████████| 92/92 [00:08<00:00, 11.48it/s]\n"
          ]
        },
        {
          "output_type": "stream",
          "name": "stdout",
          "text": [
            "SegFormer Epoch 3: Loss=0.6101, mIoU=0.3956, Time=9.8s\n"
          ]
        },
        {
          "output_type": "stream",
          "name": "stderr",
          "text": [
            "SegFormer Epoch 4: 100%|██████████| 92/92 [00:07<00:00, 11.78it/s]\n"
          ]
        },
        {
          "output_type": "stream",
          "name": "stdout",
          "text": [
            "SegFormer Epoch 4: Loss=0.5064, mIoU=0.4124, Time=9.2s\n"
          ]
        },
        {
          "output_type": "stream",
          "name": "stderr",
          "text": [
            "SegFormer Epoch 5: 100%|██████████| 92/92 [00:08<00:00, 11.13it/s]\n"
          ]
        },
        {
          "output_type": "stream",
          "name": "stdout",
          "text": [
            "SegFormer Epoch 5: Loss=0.4355, mIoU=0.4220, Time=9.7s\n"
          ]
        },
        {
          "output_type": "stream",
          "name": "stderr",
          "text": [
            "SegFormer Epoch 6: 100%|██████████| 92/92 [00:08<00:00, 11.10it/s]\n"
          ]
        },
        {
          "output_type": "stream",
          "name": "stdout",
          "text": [
            "SegFormer Epoch 6: Loss=0.3923, mIoU=0.4692, Time=9.7s\n"
          ]
        },
        {
          "output_type": "stream",
          "name": "stderr",
          "text": [
            "SegFormer Epoch 7: 100%|██████████| 92/92 [00:08<00:00, 11.11it/s]\n"
          ]
        },
        {
          "output_type": "stream",
          "name": "stdout",
          "text": [
            "SegFormer Epoch 7: Loss=0.3519, mIoU=0.4681, Time=9.7s\n"
          ]
        },
        {
          "output_type": "stream",
          "name": "stderr",
          "text": [
            "SegFormer Epoch 8: 100%|██████████| 92/92 [00:07<00:00, 11.73it/s]\n"
          ]
        },
        {
          "output_type": "stream",
          "name": "stdout",
          "text": [
            "SegFormer Epoch 8: Loss=0.3307, mIoU=0.4877, Time=9.8s\n"
          ]
        },
        {
          "output_type": "stream",
          "name": "stderr",
          "text": [
            "SegFormer Epoch 9: 100%|██████████| 92/92 [00:07<00:00, 11.78it/s]\n"
          ]
        },
        {
          "output_type": "stream",
          "name": "stdout",
          "text": [
            "SegFormer Epoch 9: Loss=0.3125, mIoU=0.4975, Time=9.2s\n"
          ]
        },
        {
          "output_type": "stream",
          "name": "stderr",
          "text": [
            "SegFormer Epoch 10: 100%|██████████| 92/92 [00:08<00:00, 11.11it/s]\n"
          ]
        },
        {
          "output_type": "stream",
          "name": "stdout",
          "text": [
            "SegFormer Epoch 10: Loss=0.2958, mIoU=0.5052, Time=9.7s\n"
          ]
        },
        {
          "output_type": "stream",
          "name": "stderr",
          "text": [
            "SegFormer Epoch 11: 100%|██████████| 92/92 [00:08<00:00, 11.16it/s]\n"
          ]
        },
        {
          "output_type": "stream",
          "name": "stdout",
          "text": [
            "SegFormer Epoch 11: Loss=0.2806, mIoU=0.5439, Time=9.7s\n"
          ]
        },
        {
          "output_type": "stream",
          "name": "stderr",
          "text": [
            "SegFormer Epoch 12: 100%|██████████| 92/92 [00:08<00:00, 11.15it/s]\n"
          ]
        },
        {
          "output_type": "stream",
          "name": "stdout",
          "text": [
            "SegFormer Epoch 12: Loss=0.2668, mIoU=0.5461, Time=9.7s\n"
          ]
        },
        {
          "output_type": "stream",
          "name": "stderr",
          "text": [
            "SegFormer Epoch 13: 100%|██████████| 92/92 [00:07<00:00, 11.85it/s]\n"
          ]
        },
        {
          "output_type": "stream",
          "name": "stdout",
          "text": [
            "SegFormer Epoch 13: Loss=0.2625, mIoU=0.5426, Time=9.7s\n"
          ]
        },
        {
          "output_type": "stream",
          "name": "stderr",
          "text": [
            "SegFormer Epoch 14: 100%|██████████| 92/92 [00:07<00:00, 11.66it/s]\n"
          ]
        },
        {
          "output_type": "stream",
          "name": "stdout",
          "text": [
            "SegFormer Epoch 14: Loss=0.2494, mIoU=0.5445, Time=9.3s\n"
          ]
        },
        {
          "output_type": "stream",
          "name": "stderr",
          "text": [
            "SegFormer Epoch 15: 100%|██████████| 92/92 [00:08<00:00, 11.15it/s]\n"
          ]
        },
        {
          "output_type": "stream",
          "name": "stdout",
          "text": [
            "SegFormer Epoch 15: Loss=0.2415, mIoU=0.5682, Time=9.7s\n"
          ]
        },
        {
          "output_type": "display_data",
          "data": {
            "text/plain": [
              "<Figure size 1500x500 with 2 Axes>"
            ],
            "image/png": "[encoded data removed]"
          },
          "metadata": {}
        },
        {
          "output_type": "stream",
          "name": "stdout",
          "text": [
            "\n",
            "Model Comparison:\n",
            "Metric          | U-Net      | SegFormer \n",
            "----------------------------------------\n",
            "Parameters (M)  | 24.4 | 3.7\n",
            "Best mIoU       | 0.4814 | 0.5682\n",
            "Total Time (s)  | 171.4 | 144.7\n"
          ]
        }
      ],
      "source": [
        "import torch\n",
        "import torch.nn as nn\n",
        "import torch.optim as optim\n",
        "from torch.utils.data import Dataset, DataLoader\n",
        "import torchvision.transforms as T\n",
        "from PIL import Image\n",
        "import os\n",
        "import time\n",
        "import matplotlib.pyplot as plt\n",
        "from tqdm import tqdm\n",
        "import numpy as np\n",
        "from torchmetrics import JaccardIndex\n",
        "\n",
        "if not os.path.exists('./CamVid'):\n",
        "    !wget -q https://github.com/alexgkendall/SegNet-Tutorial/archive/refs/heads/master.zip\n",
        "    !unzip -q master.zip && rm master.zip\n",
        "    !mv SegNet-Tutorial-master/CamVid ./CamVid && rm -r SegNet-Tutorial-master\n",
        "\n",
        "DEVICE = \"cuda\" if torch.cuda.is_available() else \"cpu\"\n",
        "BATCH_SIZE = 4\n",
        "EPOCHS = 15\n",
        "LR = 1e-4\n",
        "NUM_CLASSES = 32\n",
        "DATA_PATH = \"./CamVid\"\n",
        "\n",
        "class CamVidDataset(Dataset):\n",
        "    def __init__(self, root, split=\"train\", transforms=None, target_transforms=None):\n",
        "        self.split = split\n",
        "        self.image_dir = os.path.join(root, split)\n",
        "        self.mask_dir = os.path.join(root, split + \"annot\")\n",
        "        self.files = [f for f in os.listdir(self.image_dir) if f.endswith(\".png\")]\n",
        "        self.transforms = transforms\n",
        "        self.target_transforms = target_transforms\n",
        "\n",
        "    def __len__(self):\n",
        "        return len(self.files)\n",
        "\n",
        "    def __getitem__(self, idx):\n",
        "        img_path = os.path.join(self.image_dir, self.files[idx])\n",
        "        mask_path = os.path.join(self.mask_dir, self.files[idx])\n",
        "        image = Image.open(img_path).convert(\"RGB\")\n",
        "        mask = Image.open(mask_path)\n",
        "\n",
        "        if self.transforms:\n",
        "            image = self.transforms(image)\n",
        "        if self.target_transforms:\n",
        "            mask = self.target_transforms(mask)\n",
        "\n",
        "        mask = torch.clamp(mask.squeeze(0), 0, NUM_CLASSES-1).long()\n",
        "        return image, mask\n",
        "\n",
        "transform = T.Compose([\n",
        "    T.Resize((256, 256)),\n",
        "    T.ToTensor(),\n",
        "    T.Normalize(mean=[0.485, 0.456, 0.406], std=[0.229, 0.224, 0.225]),\n",
        "])\n",
        "target_transform = T.Compose([\n",
        "    T.Resize((256, 256), interpolation=T.InterpolationMode.NEAREST),\n",
        "    T.PILToTensor(),\n",
        "])\n",
        "\n",
        "train_dataset = CamVidDataset(DATA_PATH, \"train\", transform, target_transform)\n",
        "val_dataset = CamVidDataset(DATA_PATH, \"val\", transform, target_transform)\n",
        "train_loader = DataLoader(train_dataset, batch_size=BATCH_SIZE, shuffle=True)\n",
        "val_loader = DataLoader(val_dataset, batch_size=BATCH_SIZE)\n",
        "\n",
        "from segmentation_models_pytorch import Unet\n",
        "from transformers import SegformerForSemanticSegmentation\n",
        "\n",
        "model_unet = Unet(\n",
        "    encoder_name=\"resnet34\",\n",
        "    encoder_weights=\"imagenet\",\n",
        "    classes=NUM_CLASSES,\n",
        "    activation=None\n",
        ").to(DEVICE)\n",
        "\n",
        "model_segformer = SegformerForSemanticSegmentation.from_pretrained(\n",
        "    \"nvidia/mit-b0\",\n",
        "    num_labels=NUM_CLASSES,\n",
        "    ignore_mismatched_sizes=True\n",
        ").to(DEVICE)\n",
        "\n",
        "optimizer_unet = optim.Adam(model_unet.parameters(), lr=LR)\n",
        "optimizer_segformer = optim.Adam(model_segformer.parameters(), lr=LR)\n",
        "criterion = nn.CrossEntropyLoss()\n",
        "jaccard = JaccardIndex(num_classes=NUM_CLASSES, task='multiclass').to(DEVICE)\n",
        "\n",
        "def train_model(model, optimizer, train_loader, val_loader, epochs, name):\n",
        "    history = {'loss': [], 'miou': [], 'time': []}\n",
        "    for epoch in range(epochs):\n",
        "        start_time = time.time()\n",
        "        model.train()\n",
        "        epoch_loss = 0\n",
        "        for images, masks in tqdm(train_loader, desc=f\"{name} Epoch {epoch+1}\"):\n",
        "            images, masks = images.to(DEVICE), masks.to(DEVICE)\n",
        "            optimizer.zero_grad()\n",
        "            outputs = model(images)\n",
        "            if name == \"SegFormer\":\n",
        "                outputs = nn.functional.interpolate(\n",
        "                    outputs.logits,\n",
        "                    size=masks.shape[-2:],\n",
        "                    mode='bilinear',\n",
        "                    align_corners=False\n",
        "                )\n",
        "            loss = criterion(outputs, masks)\n",
        "            loss.backward()\n",
        "            optimizer.step()\n",
        "            epoch_loss += loss.item()\n",
        "\n",
        "        model.eval()\n",
        "        miou_total = 0\n",
        "        with torch.no_grad():\n",
        "            for images, masks in val_loader:\n",
        "                images, masks = images.to(DEVICE), masks.to(DEVICE)\n",
        "                outputs = model(images)\n",
        "                if name == \"SegFormer\":\n",
        "                    outputs = nn.functional.interpolate(\n",
        "                        outputs.logits,\n",
        "                        size=masks.shape[-2:],\n",
        "                        mode='bilinear',\n",
        "                        align_corners=False\n",
        "                    )\n",
        "\n",
        "                preds = torch.argmax(outputs, dim=1)\n",
        "                miou_total += jaccard(preds, masks)\n",
        "        avg_loss = epoch_loss / len(train_loader)\n",
        "        avg_miou = miou_total / len(val_loader)\n",
        "        history['loss'].append(avg_loss)\n",
        "        history['miou'].append(avg_miou.item())\n",
        "        history['time'].append(time.time() - start_time)\n",
        "        print(f\"{name} Epoch {epoch+1}: Loss={avg_loss:.4f}, mIoU={avg_miou:.4f}, Time={history['time'][-1]:.1f}s\")\n",
        "\n",
        "    return history\n",
        "\n",
        "print(\"Training U-Net...\")\n",
        "unet_history = train_model(model_unet, optimizer_unet, train_loader, val_loader, EPOCHS, \"U-Net\")\n",
        "\n",
        "print(\"\\nTraining SegFormer...\")\n",
        "segformer_history = train_model(model_segformer, optimizer_segformer, train_loader, val_loader, EPOCHS, \"SegFormer\")\n",
        "\n",
        "plt.figure(figsize=(15,5))\n",
        "plt.subplot(1,2,1)\n",
        "plt.plot(unet_history['loss'], label='U-Net', color='blue')\n",
        "plt.plot(segformer_history['loss'], label='SegFormer', color='orange')\n",
        "plt.title('Training Loss')\n",
        "plt.xlabel('Epoch')\n",
        "plt.legend()\n",
        "\n",
        "plt.subplot(1,2,2)\n",
        "plt.plot(unet_history['miou'], label='U-Net', color='blue')\n",
        "plt.plot(segformer_history['miou'], label='SegFormer', color='orange')\n",
        "plt.title('Validation mIoU')\n",
        "plt.xlabel('Epoch')\n",
        "plt.legend()\n",
        "\n",
        "plt.tight_layout()\n",
        "plt.savefig('results.png')\n",
        "plt.show()\n",
        "\n",
        "print(\"\\nModel Comparison:\")\n",
        "print(f\"{'Metric':<15} | {'U-Net':<10} | {'SegFormer':<10}\")\n",
        "print(\"-\"*40)\n",
        "print(f\"{'Parameters (M)':<15} | {sum(p.numel() for p in model_unet.parameters())/1e6:.1f} | {sum(p.numel() for p in model_segformer.parameters())/1e6:.1f}\")\n",
        "print(f\"{'Best mIoU':<15} | {max(unet_history['miou']):.4f} | {max(segformer_history['miou']):.4f}\")\n",
        "print(f\"{'Total Time (s)':<15} | {sum(unet_history['time']):.1f} | {sum(segformer_history['time']):.1f}\")"
      ]
    }
  ]
}